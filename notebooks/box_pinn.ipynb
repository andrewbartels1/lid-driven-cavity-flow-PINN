{
 "cells": [
  {
   "attachments": {},
   "cell_type": "markdown",
   "metadata": {},
   "source": [
    "# Physics Informed Neural Network\n",
    "## A study of lid driven cavity flow\n"
   ]
  }
 ],
 "metadata": {
  "kernelspec": {
   "display_name": "im23D_pipeline",
   "language": "python",
   "name": "python3"
  },
  "language_info": {
   "codemirror_mode": {
    "name": "ipython",
    "version": 3
   },
   "file_extension": ".py",
   "mimetype": "text/x-python",
   "name": "python",
   "nbconvert_exporter": "python",
   "pygments_lexer": "ipython3",
   "version": "3.10.8"
  },
  "vscode": {
   "interpreter": {
    "hash": "6258e1c9b5da62fbc4b5c55615c1d36e8d6bb87da48e349a90df73fd38453496"
   }
  }
 },
 "nbformat": 4,
 "nbformat_minor": 2
}
